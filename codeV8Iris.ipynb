{
 "cells": [
  {
   "cell_type": "code",
   "execution_count": 233,
   "id": "2740886b",
   "metadata": {
    "ExecuteTime": {
     "end_time": "2023-04-16T20:47:30.700767Z",
     "start_time": "2023-04-16T20:47:30.698968Z"
    }
   },
   "outputs": [],
   "source": [
    "#file Locations\n",
    "trainTxtLocation = \"/Users/pranav/Desktop/CS584/HW4/TrainIris.txt\"\n",
    "testTxtLocation =\"/Users/pranav/Desktop/CS584/HW4/iris_new_data.txt\"\n",
    "outputTxtLocation=\"/Users/pranav/Desktop/CS584/HW4/outputIris.txt\""
   ]
  },
  {
   "cell_type": "code",
   "execution_count": 234,
   "id": "b3474f9b",
   "metadata": {
    "ExecuteTime": {
     "end_time": "2023-04-16T20:47:31.195410Z",
     "start_time": "2023-04-16T20:47:31.190879Z"
    }
   },
   "outputs": [],
   "source": [
    "import numpy\n",
    "from sklearn.preprocessing import Normalizer\n",
    "from sklearn.preprocessing import MinMaxScaler\n",
    "from sklearn.manifold import TSNE\n",
    "from sklearn.metrics.pairwise import euclidean_distances\n",
    "from sklearn.metrics import silhouette_score\n",
    "import matplotlib.pyplot as plt"
   ]
  },
  {
   "cell_type": "code",
   "execution_count": 235,
   "id": "af4c29b2",
   "metadata": {
    "ExecuteTime": {
     "end_time": "2023-04-16T20:47:31.612083Z",
     "start_time": "2023-04-16T20:47:31.607180Z"
    }
   },
   "outputs": [],
   "source": [
    "k = numpy.loadtxt(testTxtLocation, delimiter=' ')"
   ]
  },
  {
   "cell_type": "code",
   "execution_count": 236,
   "id": "0981004c",
   "metadata": {
    "ExecuteTime": {
     "end_time": "2023-04-16T20:47:31.979161Z",
     "start_time": "2023-04-16T20:47:31.974679Z"
    }
   },
   "outputs": [
    {
     "data": {
      "text/plain": [
       "array([[5.7, 4.4, 1.5, 0.4],\n",
       "       [5.5, 4.2, 1.4, 0.2],\n",
       "       [5.2, 4.1, 1.5, 0.1],\n",
       "       [5.8, 4. , 1.2, 0.2],\n",
       "       [5.4, 3.9, 1.7, 0.4],\n",
       "       [5.4, 3.9, 1.3, 0.4],\n",
       "       [7.7, 3.8, 6.7, 2.2],\n",
       "       [7.9, 3.8, 6.4, 2. ],\n",
       "       [5.1, 3.8, 1.9, 0.4],\n",
       "       [5.7, 3.8, 1.7, 0.3],\n",
       "       [5.1, 3.8, 1.6, 0.2],\n",
       "       [5.1, 3.8, 1.5, 0.3],\n",
       "       [5.1, 3.7, 1.5, 0.4],\n",
       "       [5.4, 3.7, 1.5, 0.2],\n",
       "       [5.3, 3.7, 1.5, 0.2],\n",
       "       [7.2, 3.6, 6.1, 2.5],\n",
       "       [5. , 3.6, 1.4, 0.2],\n",
       "       [4.6, 3.6, 1. , 0.2],\n",
       "       [5. , 3.5, 1.6, 0.6],\n",
       "       [5.2, 3.5, 1.5, 0.2],\n",
       "       [5.1, 3.5, 1.4, 0.3],\n",
       "       [5.1, 3.5, 1.4, 0.2],\n",
       "       [5. , 3.5, 1.3, 0.3],\n",
       "       [5.5, 3.5, 1.3, 0.2],\n",
       "       [6.3, 3.4, 5.6, 2.4],\n",
       "       [6.2, 3.4, 5.4, 2.3],\n",
       "       [6. , 3.4, 4.5, 1.6],\n",
       "       [4.8, 3.4, 1.9, 0.2],\n",
       "       [5.4, 3.4, 1.7, 0.2],\n",
       "       [5. , 3.4, 1.6, 0.4],\n",
       "       [4.8, 3.4, 1.6, 0.2],\n",
       "       [5.4, 3.4, 1.5, 0.4],\n",
       "       [5.1, 3.4, 1.5, 0.2],\n",
       "       [5. , 3.4, 1.5, 0.2],\n",
       "       [4.6, 3.4, 1.4, 0.3],\n",
       "       [5.2, 3.4, 1.4, 0.2],\n",
       "       [6.3, 3.3, 6. , 2.5],\n",
       "       [6.7, 3.3, 5.7, 2.5],\n",
       "       [6.7, 3.3, 5.7, 2.1],\n",
       "       [6.3, 3.3, 4.7, 1.6],\n",
       "       [5.1, 3.3, 1.7, 0.5],\n",
       "       [5. , 3.3, 1.4, 0.2],\n",
       "       [7.2, 3.2, 6. , 1.8],\n",
       "       [6.8, 3.2, 5.9, 2.3],\n",
       "       [6.9, 3.2, 5.7, 2.3],\n",
       "       [6.4, 3.2, 5.3, 2.3],\n",
       "       [6.5, 3.2, 5.1, 2. ],\n",
       "       [5.9, 3.2, 4.8, 1.8],\n",
       "       [7. , 3.2, 4.7, 1.4],\n",
       "       [6.4, 3.2, 4.5, 1.5],\n",
       "       [4.7, 3.2, 1.6, 0.2],\n",
       "       [4.6, 3.2, 1.4, 0.2],\n",
       "       [4.7, 3.2, 1.3, 0.2],\n",
       "       [4.4, 3.2, 1.3, 0.2],\n",
       "       [5. , 3.2, 1.2, 0.2],\n",
       "       [6.7, 3.1, 5.6, 2.4],\n",
       "       [6.4, 3.1, 5.5, 1.8],\n",
       "       [6.9, 3.1, 5.4, 2.1],\n",
       "       [6.9, 3.1, 5.1, 2.3],\n",
       "       [6.9, 3.1, 4.9, 1.5],\n",
       "       [6.7, 3.1, 4.7, 1.5],\n",
       "       [6.7, 3.1, 4.4, 1.4],\n",
       "       [4.8, 3.1, 1.6, 0.2],\n",
       "       [4.6, 3.1, 1.5, 0.2],\n",
       "       [4.9, 3.1, 1.5, 0.1],\n",
       "       [4.9, 3.1, 1.5, 0.1],\n",
       "       [4.9, 3.1, 1.5, 0.1],\n",
       "       [7.6, 3. , 6.6, 2.1],\n",
       "       [7.7, 3. , 6.1, 2.3],\n",
       "       [7.1, 3. , 5.9, 2.1],\n",
       "       [6.5, 3. , 5.8, 2.2],\n",
       "       [7.2, 3. , 5.8, 1.6],\n",
       "       [6.8, 3. , 5.5, 2.1],\n",
       "       [6.5, 3. , 5.5, 1.8],\n",
       "       [6.7, 3. , 5.2, 2.3],\n",
       "       [6.5, 3. , 5.2, 2. ],\n",
       "       [5.9, 3. , 5.1, 1.8],\n",
       "       [6.7, 3. , 5. , 1.7],\n",
       "       [6.1, 3. , 4.9, 1.8],\n",
       "       [6. , 3. , 4.8, 1.8],\n",
       "       [6.1, 3. , 4.6, 1.4],\n",
       "       [5.6, 3. , 4.5, 1.5],\n",
       "       [5.4, 3. , 4.5, 1.5],\n",
       "       [6.6, 3. , 4.4, 1.4],\n",
       "       [5.9, 3. , 4.2, 1.5],\n",
       "       [5.7, 3. , 4.2, 1.2],\n",
       "       [5.6, 3. , 4.1, 1.3],\n",
       "       [5. , 3. , 1.6, 0.2],\n",
       "       [4.8, 3. , 1.4, 0.3],\n",
       "       [4.9, 3. , 1.4, 0.2],\n",
       "       [4.8, 3. , 1.4, 0.1],\n",
       "       [4.4, 3. , 1.3, 0.2],\n",
       "       [4.3, 3. , 1.1, 0.1],\n",
       "       [7.3, 2.9, 6.3, 1.8],\n",
       "       [6.3, 2.9, 5.6, 1.8],\n",
       "       [6.1, 2.9, 4.7, 1.4],\n",
       "       [6.6, 2.9, 4.6, 1.3],\n",
       "       [6. , 2.9, 4.5, 1.5],\n",
       "       [6.4, 2.9, 4.3, 1.3],\n",
       "       [6.2, 2.9, 4.3, 1.3],\n",
       "       [5.7, 2.9, 4.2, 1.3],\n",
       "       [5.6, 2.9, 3.6, 1.3],\n",
       "       [4.4, 2.9, 1.4, 0.2],\n",
       "       [7.7, 2.8, 6.7, 2. ],\n",
       "       [7.4, 2.8, 6.1, 1.9],\n",
       "       [6.4, 2.8, 5.6, 2.2],\n",
       "       [6.4, 2.8, 5.6, 2.1],\n",
       "       [5.8, 2.8, 5.1, 2.4],\n",
       "       [6.3, 2.8, 5.1, 1.5],\n",
       "       [5.6, 2.8, 4.9, 2. ],\n",
       "       [6.2, 2.8, 4.8, 1.8],\n",
       "       [6.8, 2.8, 4.8, 1.4],\n",
       "       [6.1, 2.8, 4.7, 1.2],\n",
       "       [6.5, 2.8, 4.6, 1.5],\n",
       "       [5.7, 2.8, 4.5, 1.3],\n",
       "       [5.7, 2.8, 4.1, 1.3],\n",
       "       [6.1, 2.8, 4. , 1.3],\n",
       "       [6.4, 2.7, 5.3, 1.9],\n",
       "       [5.8, 2.7, 5.1, 1.9],\n",
       "       [5.8, 2.7, 5.1, 1.9],\n",
       "       [6. , 2.7, 5.1, 1.6],\n",
       "       [6.3, 2.7, 4.9, 1.8],\n",
       "       [5.6, 2.7, 4.2, 1.3],\n",
       "       [5.8, 2.7, 4.1, 1. ],\n",
       "       [5.2, 2.7, 3.9, 1.4],\n",
       "       [5.8, 2.7, 3.9, 1.2],\n",
       "       [7.7, 2.6, 6.9, 2.3],\n",
       "       [6.1, 2.6, 5.6, 1.4],\n",
       "       [5.5, 2.6, 4.4, 1.2],\n",
       "       [5.8, 2.6, 4. , 1.2],\n",
       "       [5.7, 2.6, 3.5, 1. ],\n",
       "       [6.7, 2.5, 5.8, 1.8],\n",
       "       [5.7, 2.5, 5. , 2. ],\n",
       "       [6.3, 2.5, 5. , 1.9],\n",
       "       [6.3, 2.5, 4.9, 1.5],\n",
       "       [4.9, 2.5, 4.5, 1.7],\n",
       "       [5.5, 2.5, 4. , 1.3],\n",
       "       [5.6, 2.5, 3.9, 1.1],\n",
       "       [5.1, 2.5, 3. , 1.1],\n",
       "       [5.5, 2.4, 3.8, 1.1],\n",
       "       [5.5, 2.4, 3.7, 1. ],\n",
       "       [4.9, 2.4, 3.3, 1. ],\n",
       "       [6.3, 2.3, 4.4, 1.3],\n",
       "       [5.5, 2.3, 4. , 1.3],\n",
       "       [5. , 2.3, 3.3, 1. ],\n",
       "       [4.5, 2.3, 1.3, 0.3],\n",
       "       [6. , 2.2, 5. , 1.5],\n",
       "       [6.2, 2.2, 4.5, 1.5],\n",
       "       [6. , 2.2, 4. , 1. ],\n",
       "       [5. , 2. , 3.5, 1. ]])"
      ]
     },
     "execution_count": 236,
     "metadata": {},
     "output_type": "execute_result"
    }
   ],
   "source": [
    "k"
   ]
  },
  {
   "cell_type": "code",
   "execution_count": 237,
   "id": "fbc6f2dd",
   "metadata": {
    "ExecuteTime": {
     "end_time": "2023-04-16T20:47:32.609581Z",
     "start_time": "2023-04-16T20:47:32.384520Z"
    }
   },
   "outputs": [
    {
     "data": {
      "text/plain": [
       "<matplotlib.collections.PathCollection at 0x7fc440be6130>"
      ]
     },
     "execution_count": 237,
     "metadata": {},
     "output_type": "execute_result"
    },
    {
     "data": {
      "image/png": "[encoded data removed]",
      "text/plain": [
       "<Figure size 640x480 with 1 Axes>"
      ]
     },
     "metadata": {},
     "output_type": "display_data"
    }
   ],
   "source": [
    "plt.scatter(k[:,0],k[:,1])"
   ]
  },
  {
   "cell_type": "markdown",
   "id": "c3289b5f",
   "metadata": {},
   "source": [
    "## Normalization of Data"
   ]
  },
  {
   "cell_type": "code",
   "execution_count": 238,
   "id": "0e44a11d",
   "metadata": {},
   "outputs": [],
   "source": [
    "k = Normalizer().fit(k).transform(k) "
   ]
  },
  {
   "cell_type": "markdown",
   "id": "4d33f375",
   "metadata": {},
   "source": [
    "## Reducing Dimensionality by tSNE"
   ]
  },
  {
   "cell_type": "code",
   "execution_count": 239,
   "id": "4ca0d3ba",
   "metadata": {
    "ExecuteTime": {
     "end_time": "2023-04-16T20:47:33.514802Z",
     "start_time": "2023-04-16T20:47:32.825613Z"
    }
   },
   "outputs": [],
   "source": [
    "tSNE = TSNE(n_components=2,n_iter=856)\n",
    "data = tSNE.fit_transform(k)\n",
    "data = MinMaxScaler(feature_range=(0,1)).fit_transform(data)"
   ]
  },
  {
   "cell_type": "code",
   "execution_count": 240,
   "id": "373a39aa",
   "metadata": {
    "ExecuteTime": {
     "end_time": "2023-04-16T20:47:33.657616Z",
     "start_time": "2023-04-16T20:47:33.529001Z"
    }
   },
   "outputs": [
    {
     "data": {
      "text/plain": [
       "<matplotlib.collections.PathCollection at 0x7fc440c5bdc0>"
      ]
     },
     "execution_count": 240,
     "metadata": {},
     "output_type": "execute_result"
    },
    {
     "data": {
      "image/png": "[encoded data removed]",
      "text/plain": [
       "<Figure size 640x480 with 1 Axes>"
      ]
     },
     "metadata": {},
     "output_type": "display_data"
    }
   ],
   "source": [
    "plt.scatter( data[:,0], data[:,1])"
   ]
  },
  {
   "cell_type": "markdown",
   "id": "5b81990d",
   "metadata": {},
   "source": [
    "## Applying K-Mean Algorithm"
   ]
  },
  {
   "cell_type": "code",
   "execution_count": 241,
   "id": "64c27374",
   "metadata": {},
   "outputs": [],
   "source": [
    "def randomK(data,k,random):\n",
    "    for i in range(k):\n",
    "        indices = numpy.random.randint(0, data.shape[0], size=data.shape[1])\n",
    "        random.append(indices)\n",
    "    return random"
   ]
  },
  {
   "cell_type": "code",
   "execution_count": 242,
   "id": "aaa427e9",
   "metadata": {},
   "outputs": [],
   "source": [
    "def buildCentroid(data,build_centroid,currentCentroid):\n",
    "    for j in range(len(currentCentroid)):\n",
    "        build_centroid.append(data[currentCentroid[j],j])\n",
    "    return build_centroid"
   ]
  },
  {
   "cell_type": "code",
   "execution_count": 243,
   "id": "0d69eeba",
   "metadata": {},
   "outputs": [],
   "source": [
    "def assignCentroid(centroed,random,data):\n",
    "    for i in range(len(random)):\n",
    "        currentCentroid = random[i]\n",
    "        buildCentroidArray = []\n",
    "        buildCentroidArray = buildCentroid(data,buildCentroidArray,currentCentroid)\n",
    "        centroed.append(buildCentroidArray)\n",
    "    return centroed"
   ]
  },
  {
   "cell_type": "code",
   "execution_count": 244,
   "id": "22db00e1",
   "metadata": {
    "ExecuteTime": {
     "end_time": "2023-04-16T20:47:34.314182Z",
     "start_time": "2023-04-16T20:47:34.308241Z"
    }
   },
   "outputs": [],
   "source": [
    "def getCentroid(data, k):\n",
    "    random = []\n",
    "    centroed = []\n",
    "    random=randomK(data,k,random)\n",
    "    centroed=assignCentroid(centroed,random,data)\n",
    "    centroids=numpy.array(centroed)\n",
    "    return centroids"
   ]
  },
  {
   "cell_type": "code",
   "execution_count": 245,
   "id": "acc6e692",
   "metadata": {},
   "outputs": [],
   "source": [
    "def initializeClustersArray(size,clustersArray):\n",
    "    for i in range(size):\n",
    "            clustersArray[i] = []\n",
    "    return clustersArray"
   ]
  },
  {
   "cell_type": "code",
   "execution_count": 246,
   "id": "56f5de58",
   "metadata": {},
   "outputs": [],
   "source": [
    "def appendClusterWithData(assignClstr,clustersArray,dataX):\n",
    "    for i in range(assignClstr.shape[0]):\n",
    "        clustersArray[assignClstr[i]].append(dataX[i])\n",
    "    return clustersArray"
   ]
  },
  {
   "cell_type": "code",
   "execution_count": 247,
   "id": "d342d4a3",
   "metadata": {},
   "outputs": [],
   "source": [
    "def restartCondition(size,clustersArray,data,restart,centroids):\n",
    "    for i in range(size):\n",
    "        if len(clustersArray[i]) == 0:\n",
    "            centroids = getCentroid(data, size)\n",
    "            restart = True\n",
    "    return centroids,restart"
   ]
  },
  {
   "cell_type": "code",
   "execution_count": 248,
   "id": "11ed5313",
   "metadata": {},
   "outputs": [],
   "source": [
    "def determineMean(clustersArray,index):\n",
    "    temArr=numpy.array(clustersArray[index])\n",
    "    mean=numpy.mean(temArr ,axis=0)\n",
    "    return mean"
   ]
  },
  {
   "cell_type": "code",
   "execution_count": 249,
   "id": "4c86f76f",
   "metadata": {},
   "outputs": [],
   "source": [
    "def appendClusterWithMean(size,centroid_of_cluster,clustersArray):\n",
    "    for i in range(size):\n",
    "        centroid_of_cluster.append(determineMean(clustersArray,i))\n",
    "    return centroid_of_cluster"
   ]
  },
  {
   "cell_type": "code",
   "execution_count": 250,
   "id": "4e457d34",
   "metadata": {
    "ExecuteTime": {
     "end_time": "2023-04-16T20:47:34.933231Z",
     "start_time": "2023-04-16T20:47:34.928390Z"
    }
   },
   "outputs": [],
   "source": [
    "def runKmeanClustering(size, dataX, centroids):\n",
    "    iterCount = 0\n",
    "    while True:\n",
    "        iterCount = iterCount+1\n",
    "        dist = euclidean_distances(dataX, centroids)\n",
    "        restart = False\n",
    "        clustersArray = {}\n",
    "        finalcentroidCluster = []\n",
    "        assignClstr  = numpy.argmin(dist, axis=1)\n",
    "        clustersArray = initializeClustersArray(size,clustersArray)\n",
    "        clustersArray = appendClusterWithData(assignClstr,clustersArray,dataX)\n",
    "        centroids,restart=restartCondition(size,clustersArray,data,restart,centroids)\n",
    "        if restart:\n",
    "            continue\n",
    "        finalcentroidCluster=appendClusterWithMean(size,finalcentroidCluster,clustersArray)\n",
    "        if numpy.array_equal(finalcentroidCluster, centroids):\n",
    "            return centroids, assignClstr\n",
    "        else:\n",
    "            centroids = numpy.array(finalcentroidCluster)"
   ]
  },
  {
   "cell_type": "code",
   "execution_count": 251,
   "id": "af9a1c33",
   "metadata": {},
   "outputs": [],
   "source": [
    "def reshapeReq(arr):\n",
    "    return arr.reshape(1,-1)"
   ]
  },
  {
   "cell_type": "code",
   "execution_count": 252,
   "id": "67ca6e6a",
   "metadata": {},
   "outputs": [],
   "source": [
    "def calculateSumOfSquareDistance(assignClstr,centroid,ssdistance,data):\n",
    "    length=assignClstr.shape[0]\n",
    "    for i in range(length):\n",
    "        di = euclidean_distances(reshapeReq(data[i]), reshapeReq(centroid[assignClstr[i]]))\n",
    "        ssdistance += (di*di)\n",
    "    return ssdistance"
   ]
  },
  {
   "cell_type": "code",
   "execution_count": 253,
   "id": "556e2155",
   "metadata": {
    "ExecuteTime": {
     "end_time": "2023-04-16T20:47:35.493926Z",
     "start_time": "2023-04-16T20:47:35.488994Z"
    }
   },
   "outputs": [],
   "source": [
    "def calculateInertia(data, centroid, assignClstr):\n",
    "    ssdistance = 0\n",
    "    centroid = numpy.array(centroid)\n",
    "    assignClstr = numpy.array(assignClstr)\n",
    "    ssdistance = calculateSumOfSquareDistance(assignClstr,centroid,ssdistance,data)\n",
    "    return ssdistance"
   ]
  },
  {
   "cell_type": "code",
   "execution_count": 254,
   "id": "61f17613",
   "metadata": {},
   "outputs": [],
   "source": [
    "def minInertia(intertiaSelected):\n",
    "    return numpy.argmin(intertiaSelected)"
   ]
  },
  {
   "cell_type": "code",
   "execution_count": 255,
   "id": "c1dddade",
   "metadata": {},
   "outputs": [],
   "source": [
    "def selectClusterAndInertia(clusterandInertia,clustersSelected,intertiaSelected,num_iteration,k,train_data):\n",
    "    for i in range(num_iteration):\n",
    "        k_centroids, assigned_cluster = runKmeanClustering(k, train_data, getCentroid(train_data,k))\n",
    "        clustersSelected.append(assigned_cluster)\n",
    "        intertiaSelected.append(calculateInertia(train_data,k_centroids,assigned_cluster))\n",
    "    return clusterandInertia,intertiaSelected"
   ]
  },
  {
   "cell_type": "code",
   "execution_count": 256,
   "id": "65a0a378",
   "metadata": {
    "ExecuteTime": {
     "end_time": "2023-04-16T20:47:36.092389Z",
     "start_time": "2023-04-16T20:47:36.088329Z"
    }
   },
   "outputs": [],
   "source": [
    "def runKmeans(train_data, clusters, num_iteration):\n",
    "    clusterandInertia = []\n",
    "    processingCluster = []\n",
    "    \n",
    "    \n",
    "    for cluster in clusters:\n",
    "        processingCluster.append(cluster)\n",
    "    \n",
    "    for k in processingCluster:\n",
    "        clustersSelected =[]\n",
    "        intertiaSelected = []\n",
    "        print(\"processing cluster of size(k)=\", k)\n",
    "        clusterandInertia,intertiaSelected=selectClusterAndInertia(clusterandInertia,clustersSelected,intertiaSelected,num_iteration,k,train_data)\n",
    "        index = minInertia(intertiaSelected)\n",
    "        clusterandInertia.append((clustersSelected[index], intertiaSelected[index]))\n",
    "\n",
    "    return clusterandInertia"
   ]
  },
  {
   "cell_type": "code",
   "execution_count": 257,
   "id": "29389d8a",
   "metadata": {
    "ExecuteTime": {
     "end_time": "2023-04-16T20:48:09.694567Z",
     "start_time": "2023-04-16T20:47:36.996953Z"
    }
   },
   "outputs": [
    {
     "name": "stdout",
     "output_type": "stream",
     "text": [
      "processing cluster of size(k)= 1\n",
      "processing cluster of size(k)= 2\n",
      "processing cluster of size(k)= 3\n",
      "processing cluster of size(k)= 4\n",
      "processing cluster of size(k)= 5\n",
      "processing cluster of size(k)= 6\n",
      "processing cluster of size(k)= 7\n",
      "processing cluster of size(k)= 8\n",
      "processing cluster of size(k)= 9\n",
      "processing cluster of size(k)= 10\n",
      "processing cluster of size(k)= 11\n",
      "processing cluster of size(k)= 12\n",
      "processing cluster of size(k)= 13\n",
      "processing cluster of size(k)= 14\n",
      "processing cluster of size(k)= 15\n",
      "processing cluster of size(k)= 16\n",
      "processing cluster of size(k)= 17\n",
      "processing cluster of size(k)= 18\n",
      "processing cluster of size(k)= 19\n",
      "processing cluster of size(k)= 20\n"
     ]
    }
   ],
   "source": [
    "clusters=[1,2,3,4,5,6,7,8,9,10,11,12,13,14,15,16,17,18,19,20]\n",
    "selectedCluster = runKmeans(data,clusters,10)"
   ]
  },
  {
   "cell_type": "markdown",
   "id": "98dd5699",
   "metadata": {},
   "source": [
    "## Calculating Silhouette Score"
   ]
  },
  {
   "cell_type": "code",
   "execution_count": 258,
   "id": "25969a2c",
   "metadata": {
    "ExecuteTime": {
     "end_time": "2023-04-16T20:51:35.740590Z",
     "start_time": "2023-04-16T20:51:35.716234Z"
    }
   },
   "outputs": [
    {
     "name": "stdout",
     "output_type": "stream",
     "text": [
      "silhouette_score of cluster :  2  =  0.67747307\n",
      "silhouette_score of cluster :  3  =  0.73029447\n",
      "silhouette_score of cluster :  4  =  0.64676136\n",
      "silhouette_score of cluster :  5  =  0.60551053\n",
      "silhouette_score of cluster :  6  =  0.45558435\n",
      "silhouette_score of cluster :  7  =  0.41659245\n",
      "silhouette_score of cluster :  8  =  0.42607003\n",
      "silhouette_score of cluster :  9  =  0.37446356\n",
      "silhouette_score of cluster :  10  =  0.4047287\n",
      "silhouette_score of cluster :  11  =  0.36963394\n",
      "silhouette_score of cluster :  12  =  0.397364\n",
      "silhouette_score of cluster :  13  =  0.38756698\n",
      "silhouette_score of cluster :  14  =  0.40249124\n",
      "silhouette_score of cluster :  15  =  0.36125025\n",
      "silhouette_score of cluster :  16  =  0.38205436\n",
      "silhouette_score of cluster :  17  =  0.38874692\n",
      "silhouette_score of cluster :  18  =  0.38922715\n",
      "silhouette_score of cluster :  19  =  0.37334678\n",
      "silhouette_score of cluster :  20  =  0.4004512\n"
     ]
    }
   ],
   "source": [
    "#cannot calculate silhouette_score for cluster of label 1\n",
    "resultIndex=1\n",
    "max=0\n",
    "for i in range(1,20):\n",
    "    silSc=silhouette_score(data, selectedCluster[i][0])\n",
    "    if(max<silSc):\n",
    "        resultIndex=i\n",
    "        max=silSc\n",
    "    print(\"silhouette_score of cluster : \", i+1,\" = \",silSc)"
   ]
  },
  {
   "cell_type": "code",
   "execution_count": 259,
   "id": "91b05461",
   "metadata": {},
   "outputs": [
    {
     "name": "stdout",
     "output_type": "stream",
     "text": [
      "cluster selected =  3\n"
     ]
    }
   ],
   "source": [
    "print(\"cluster selected = \",resultIndex+1)"
   ]
  },
  {
   "cell_type": "code",
   "execution_count": 260,
   "id": "81a89054",
   "metadata": {
    "ExecuteTime": {
     "end_time": "2023-04-16T20:51:42.935393Z",
     "start_time": "2023-04-16T20:51:42.928775Z"
    }
   },
   "outputs": [],
   "source": [
    "inertia = []\n",
    "for i in range(0,20):\n",
    "    inertia.append(selectedCluster[i][1][0][0])"
   ]
  },
  {
   "cell_type": "markdown",
   "id": "77ab87f0",
   "metadata": {},
   "source": [
    "## Graph"
   ]
  },
  {
   "cell_type": "code",
   "execution_count": 261,
   "id": "02ef3069",
   "metadata": {
    "ExecuteTime": {
     "end_time": "2023-04-16T20:51:44.160162Z",
     "start_time": "2023-04-16T20:51:44.051673Z"
    }
   },
   "outputs": [
    {
     "data": {
      "image/png": "[encoded data removed]",
      "text/plain": [
       "<Figure size 640x480 with 1 Axes>"
      ]
     },
     "metadata": {},
     "output_type": "display_data"
    }
   ],
   "source": [
    "plt.rcParams[\"figure.autolayout\"] = True\n",
    "x = [1,2,3,4,5,6,7,8,9,10,11,12,13,14,15,16,17,18,19,20]\n",
    "y = inertia\n",
    "X = range(len(x))\n",
    "plt.xlabel('Number of Clusters (K)')\n",
    "plt.ylabel('Inertia')\n",
    "plt.title('Iris Dataset(Elbow Method)')\n",
    "plt.plot(X, y)\n",
    "plt.xticks(X, x)\n",
    "plt.show()\n"
   ]
  },
  {
   "cell_type": "code",
   "execution_count": 262,
   "id": "f49a5903",
   "metadata": {
    "ExecuteTime": {
     "end_time": "2023-04-16T20:51:45.493828Z",
     "start_time": "2023-04-16T20:51:45.460210Z"
    }
   },
   "outputs": [],
   "source": [
    "silhouetteMetric = []\n",
    "\n",
    "for i in range(1,20):\n",
    "    silhouetteMetric.append(silhouette_score(data, selectedCluster[i][0]))"
   ]
  },
  {
   "cell_type": "code",
   "execution_count": 263,
   "id": "6dbf0421",
   "metadata": {
    "ExecuteTime": {
     "end_time": "2023-04-16T20:51:46.594838Z",
     "start_time": "2023-04-16T20:51:46.486007Z"
    }
   },
   "outputs": [
    {
     "data": {
      "image/png": "[encoded data removed]",
      "text/plain": [
       "<Figure size 640x480 with 1 Axes>"
      ]
     },
     "metadata": {},
     "output_type": "display_data"
    }
   ],
   "source": [
    "plt.rcParams[\"figure.autolayout\"] = True\n",
    "x = [2,3,4,5,6,7,8,9,10,11,12,13,14,15,16,17,18,19,20]\n",
    "y = silhouetteMetric\n",
    "X = range(len(x))\n",
    "plt.xlabel('Number of Clusters (K)')\n",
    "plt.ylabel('silhouette Metric')\n",
    "plt.title('Iris Dataset')\n",
    "plt.plot(X, y)\n",
    "plt.xticks(X, x)\n",
    "plt.show()"
   ]
  },
  {
   "cell_type": "code",
   "execution_count": 264,
   "id": "6e330a90",
   "metadata": {
    "ExecuteTime": {
     "end_time": "2023-04-16T20:52:04.410832Z",
     "start_time": "2023-04-16T20:52:04.401423Z"
    }
   },
   "outputs": [],
   "source": [
    "choosen_cluster = selectedCluster[resultIndex][0]"
   ]
  },
  {
   "cell_type": "code",
   "execution_count": 265,
   "id": "70e682b9",
   "metadata": {
    "ExecuteTime": {
     "end_time": "2023-04-16T20:52:05.940197Z",
     "start_time": "2023-04-16T20:52:05.931044Z"
    }
   },
   "outputs": [
    {
     "data": {
      "text/plain": [
       "array([2, 2, 2, 2, 2, 2, 1, 1, 2, 2, 2, 2, 2, 2, 2, 1, 2, 2, 2, 2, 2, 2,\n",
       "       2, 2, 1, 1, 0, 2, 2, 2, 2, 2, 2, 2, 2, 2, 1, 1, 1, 0, 2, 2, 1, 1,\n",
       "       1, 1, 1, 0, 0, 0, 2, 2, 2, 2, 2, 1, 1, 1, 1, 0, 0, 0, 2, 2, 2, 2,\n",
       "       2, 1, 1, 1, 1, 1, 1, 1, 1, 1, 1, 0, 1, 1, 0, 0, 0, 0, 0, 0, 0, 2,\n",
       "       2, 2, 2, 2, 2, 1, 1, 0, 0, 0, 0, 0, 0, 0, 2, 1, 1, 1, 1, 1, 1, 1,\n",
       "       1, 0, 0, 0, 0, 0, 0, 1, 1, 1, 1, 1, 0, 0, 0, 0, 1, 1, 0, 0, 0, 1,\n",
       "       1, 1, 1, 1, 0, 0, 0, 0, 0, 0, 0, 0, 0, 2, 1, 0, 0, 0])"
      ]
     },
     "execution_count": 265,
     "metadata": {},
     "output_type": "execute_result"
    }
   ],
   "source": [
    "selectedCluster[resultIndex][0]"
   ]
  },
  {
   "cell_type": "code",
   "execution_count": 266,
   "id": "1e7c606a",
   "metadata": {
    "ExecuteTime": {
     "end_time": "2023-04-16T20:52:06.974444Z",
     "start_time": "2023-04-16T20:52:06.954059Z"
    }
   },
   "outputs": [],
   "source": [
    "y=selectedCluster[resultIndex][0]\n",
    "y=y+1"
   ]
  },
  {
   "cell_type": "code",
   "execution_count": 267,
   "id": "4f05a618",
   "metadata": {
    "ExecuteTime": {
     "end_time": "2023-04-16T20:52:15.359954Z",
     "start_time": "2023-04-16T20:52:15.347051Z"
    }
   },
   "outputs": [
    {
     "data": {
      "text/plain": [
       "array([3, 3, 3, 3, 3, 3, 2, 2, 3, 3, 3, 3, 3, 3, 3, 2, 3, 3, 3, 3, 3, 3,\n",
       "       3, 3, 2, 2, 1, 3, 3, 3, 3, 3, 3, 3, 3, 3, 2, 2, 2, 1, 3, 3, 2, 2,\n",
       "       2, 2, 2, 1, 1, 1, 3, 3, 3, 3, 3, 2, 2, 2, 2, 1, 1, 1, 3, 3, 3, 3,\n",
       "       3, 2, 2, 2, 2, 2, 2, 2, 2, 2, 2, 1, 2, 2, 1, 1, 1, 1, 1, 1, 1, 3,\n",
       "       3, 3, 3, 3, 3, 2, 2, 1, 1, 1, 1, 1, 1, 1, 3, 2, 2, 2, 2, 2, 2, 2,\n",
       "       2, 1, 1, 1, 1, 1, 1, 2, 2, 2, 2, 2, 1, 1, 1, 1, 2, 2, 1, 1, 1, 2,\n",
       "       2, 2, 2, 2, 1, 1, 1, 1, 1, 1, 1, 1, 1, 3, 2, 1, 1, 1])"
      ]
     },
     "execution_count": 267,
     "metadata": {},
     "output_type": "execute_result"
    }
   ],
   "source": [
    "y"
   ]
  },
  {
   "cell_type": "markdown",
   "id": "e188b0f3",
   "metadata": {},
   "source": [
    "## Writing output to the file"
   ]
  },
  {
   "cell_type": "code",
   "execution_count": 268,
   "id": "365651a2",
   "metadata": {
    "ExecuteTime": {
     "end_time": "2023-04-16T20:52:15.907810Z",
     "start_time": "2023-04-16T20:52:15.897449Z"
    }
   },
   "outputs": [
    {
     "name": "stdout",
     "output_type": "stream",
     "text": [
      "Execution finished\n"
     ]
    }
   ],
   "source": [
    "#write file\n",
    "with open(outputTxtLocation, 'w') as outputFile:\n",
    "    for i in y:\n",
    "        outputFile.write(str(i)+'\\n')\n",
    "print(\"Execution finished\")"
   ]
  },
  {
   "cell_type": "markdown",
   "id": "c5e5705d",
   "metadata": {},
   "source": [
    "# Code to plot graph for cluster k (from 2 to 20) vs internal evaluation matric"
   ]
  },
  {
   "cell_type": "code",
   "execution_count": 269,
   "id": "d269dc27",
   "metadata": {
    "ExecuteTime": {
     "end_time": "2023-04-16T20:52:35.250270Z",
     "start_time": "2023-04-16T20:52:20.803113Z"
    }
   },
   "outputs": [
    {
     "name": "stdout",
     "output_type": "stream",
     "text": [
      "processing cluster of size(k)= 2\n",
      "processing cluster of size(k)= 4\n",
      "processing cluster of size(k)= 6\n",
      "processing cluster of size(k)= 8\n",
      "processing cluster of size(k)= 10\n",
      "processing cluster of size(k)= 12\n",
      "processing cluster of size(k)= 14\n",
      "processing cluster of size(k)= 16\n",
      "processing cluster of size(k)= 18\n",
      "processing cluster of size(k)= 20\n"
     ]
    }
   ],
   "source": [
    "clusters=[2,4,6,8,10,12,14,16,18,20]\n",
    "selectedCluster = runKmeans(data,clusters,10)"
   ]
  },
  {
   "cell_type": "code",
   "execution_count": 270,
   "id": "032d523f",
   "metadata": {
    "ExecuteTime": {
     "end_time": "2023-04-16T20:52:35.253700Z",
     "start_time": "2023-04-16T20:52:35.251035Z"
    }
   },
   "outputs": [],
   "source": [
    "inertia = []\n",
    "\n",
    "for i in range(0,10):\n",
    "    inertia.append(selectedCluster[i][1][0][0])"
   ]
  },
  {
   "cell_type": "code",
   "execution_count": 271,
   "id": "61a52358",
   "metadata": {
    "ExecuteTime": {
     "end_time": "2023-04-16T20:52:35.363662Z",
     "start_time": "2023-04-16T20:52:35.274533Z"
    }
   },
   "outputs": [
    {
     "data": {
      "image/png": "[encoded data removed]",
      "text/plain": [
       "<Figure size 640x480 with 1 Axes>"
      ]
     },
     "metadata": {},
     "output_type": "display_data"
    }
   ],
   "source": [
    "plt.rcParams[\"figure.autolayout\"] = True\n",
    "x = [2,4,6,8,10,12,14,16,18,20]\n",
    "y = inertia\n",
    "X = range(len(x))\n",
    "plt.plot(X, y)\n",
    "plt.xticks(X, x)\n",
    "plt.show()\n"
   ]
  },
  {
   "cell_type": "code",
   "execution_count": 272,
   "id": "72cd1218",
   "metadata": {
    "ExecuteTime": {
     "end_time": "2023-04-16T20:53:29.342070Z",
     "start_time": "2023-04-16T20:53:29.323924Z"
    }
   },
   "outputs": [],
   "source": [
    "silhouetteMetric = []\n",
    "for i in range(0,10):\n",
    "    silhouetteMetric.append(silhouette_score(data, selectedCluster[i][0]))\n"
   ]
  },
  {
   "cell_type": "code",
   "execution_count": 273,
   "id": "cf32f2aa",
   "metadata": {
    "ExecuteTime": {
     "end_time": "2023-04-16T20:53:29.992033Z",
     "start_time": "2023-04-16T20:53:29.834332Z"
    }
   },
   "outputs": [
    {
     "data": {
      "image/png": "[encoded data removed]",
      "text/plain": [
       "<Figure size 640x480 with 1 Axes>"
      ]
     },
     "metadata": {},
     "output_type": "display_data"
    }
   ],
   "source": [
    "plt.rcParams[\"figure.autolayout\"] = True\n",
    "x = [2,4,6,8,10,12,14,16,18,20]\n",
    "y = silhouetteMetric\n",
    "X = range(len(x))\n",
    "plt.plot(X, y)\n",
    "plt.xticks(X, x)\n",
    "plt.show()"
   ]
  },
  {
   "cell_type": "code",
   "execution_count": null,
   "id": "af9fa6e4",
   "metadata": {},
   "outputs": [],
   "source": []
  }
 ],
 "metadata": {
  "kernelspec": {
   "display_name": "Python 3 (ipykernel)",
   "language": "python",
   "name": "python3"
  },
  "language_info": {
   "codemirror_mode": {
    "name": "ipython",
    "version": 3
   },
   "file_extension": ".py",
   "mimetype": "text/x-python",
   "name": "python",
   "nbconvert_exporter": "python",
   "pygments_lexer": "ipython3",
   "version": "3.8.9"
  }
 },
 "nbformat": 4,
 "nbformat_minor": 5
}
